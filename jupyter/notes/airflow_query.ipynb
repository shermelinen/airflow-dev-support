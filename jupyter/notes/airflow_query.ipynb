{
 "cells": [
  {
   "cell_type": "code",
   "execution_count": 5,
   "metadata": {},
   "outputs": [],
   "source": [
    "import sqlite3\n",
    "con = sqlite3.connect('test.db')"
   ]
  },
  {
   "cell_type": "code",
   "execution_count": 28,
   "metadata": {},
   "outputs": [],
   "source": [
    "import sqlite3\n",
    "con = sqlite3.connect('test.db')\n",
    "\n",
    "cur = con.cursor()\n",
    "# Create table\n",
    "#cur.execute('''CREATE TABLE TaskInstance\n",
    "#               (dag_id text, task_id text, execution_date text, instance real, state text)''')\n",
    "\n",
    "#cur.execute('''CREATE TABLE TaskReschedule\n",
    "#               (dag_id text, task_id text, execution_date text, reschedule_date text)''')\n",
    "\n",
    "#cur.execute('''CREATE TABLE DagRun\n",
    "#               (id, dag_id, execution_date, state, run_id, external_trigger, conf, end_date, start_date, run_type, last_scheduling_decision, dag_hash, creating_job_id)''')\n",
    "\n",
    "\n",
    "cur.execute(\"INSERT INTO DagRun VALUES ('1', 'smoke_test_env_vars', '2021-04-1408:40:00.000000', 'failed', 'scheduled__2021-04-14T08:40:00+00:00', '0', '?}?.', '2021-04-1408:56:47.747434', '2021-04-1408:49:57.150681', 'scheduled', '2021-04-1408:56:47.742612', '482a7b9b8d5bb41b69b6b2e707531839', '1')\")\n",
    "cur.execute(\"INSERT INTO DagRun VALUES ('2', 'smoke_test_env_vars', '2021-04-1409:40:00.000000', 'success', 'scheduled__2021-04-14T08:40:00+00:00', '0', '?}?.', '2021-04-1408:56:47.747434', '2021-04-1408:49:57.150681', 'scheduled', '2021-04-1408:56:47.742612', '482a7b9b8d5bb41b69b6b2e707531839', '1')\")\n",
    "cur.execute(\"INSERT INTO DagRun VALUES ('3', 'smoke_test_env_vars2', '2021-04-1409:40:00.000000', 'success', 'scheduled__2021-04-14T08:40:00+00:00', '0', '?}?.', '2021-04-1408:56:47.747434', '2021-04-1408:49:57.150681', 'scheduled', '2021-04-1408:56:47.742612', '482a7b9b8d5bb41b69b6b2e707531839', '1')\")\n",
    "cur.execute(\"INSERT INTO DagRun VALUES ('4', 'smoke_test_env_vars', '2021-04-1409:40:00.000000', 'success', 'scheduled__2021-04-14T08:40:00+00:00', '0', '?}?.', '2021-04-1409:56:47.747434', '2021-04-1408:49:57.150681', 'scheduled', '2021-04-1408:56:47.742612', '482a7b9b8d5bb41b69b6b2e707531839', '1')\")\n",
    "# Insert a row of data\n",
    "cur.execute(\"INSERT INTO TaskInstance VALUES ('a','a','2021-03-31', 1, 'UP_FOR_RESCHEDULE')\")\n",
    "cur.execute(\"INSERT INTO TaskInstance VALUES ('b','b','2021-03-31', 1, 'UP_FOR_RESCHEDULE')\")\n",
    "\n",
    "cur.execute(\"INSERT INTO TaskReschedule VALUES ('a','a','2021-03-31', '2021-03-31 00:00:10')\")\n",
    "cur.execute(\"INSERT INTO TaskReschedule VALUES ('a','a','2021-03-31', '2021-03-31 00:00:20')\")\n",
    "cur.execute(\"INSERT INTO TaskReschedule VALUES ('a','a','2021-03-31', '2021-03-31 00:00:30')\")\n",
    "cur.execute(\"INSERT INTO TaskReschedule VALUES ('b','b','2021-03-31', '2021-03-31 00:00:30')\")\n",
    "\n",
    "# Save (commit) the changes\n",
    "con.commit()\n",
    "\n",
    "# We can also close the connection if we are done with it.\n",
    "# Just be sure any changes have been committed or they will be lost.\n",
    "con.close()"
   ]
  },
  {
   "cell_type": "code",
   "execution_count": 8,
   "metadata": {},
   "outputs": [],
   "source": [
    "from sqlalchemy import create_engine\n",
    "engine = create_engine('sqlite:///test.db', echo=True)"
   ]
  },
  {
   "cell_type": "code",
   "execution_count": 25,
   "metadata": {},
   "outputs": [
    {
     "name": "stdout",
     "output_type": "stream",
     "text": [
      "2021-04-14 13:35:22,787 INFO sqlalchemy.engine.base.Engine PRAGMA main.table_info(\"TaskInstance\")\n",
      "2021-04-14 13:35:22,789 INFO sqlalchemy.engine.base.Engine ()\n",
      "2021-04-14 13:35:22,793 INFO sqlalchemy.engine.base.Engine PRAGMA main.table_info(\"TaskReschedule\")\n",
      "2021-04-14 13:35:22,796 INFO sqlalchemy.engine.base.Engine ()\n",
      "2021-04-14 13:35:22,799 INFO sqlalchemy.engine.base.Engine PRAGMA main.table_info(\"DagRun\")\n",
      "2021-04-14 13:35:22,801 INFO sqlalchemy.engine.base.Engine ()\n"
     ]
    }
   ],
   "source": [
    "from sqlalchemy import Column, Integer, String, Float\n",
    "from sqlalchemy.sql import and_, func\n",
    "from sqlalchemy.ext.declarative import declarative_base\n",
    "Base = declarative_base()\n",
    "\n",
    "class TaskInstance(Base):\n",
    "    __tablename__ = 'TaskInstance'\n",
    "\n",
    "    dag_id = Column(String, primary_key=True)\n",
    "    task_id = Column(String, primary_key=True)\n",
    "    execution_date = Column(String, primary_key=True)\n",
    "    instance = Column(Float)\n",
    "    state = Column(String)\n",
    "    \n",
    "class TaskReschedule(Base):\n",
    "    __tablename__ = 'TaskReschedule'\n",
    "\n",
    "    dag_id = Column(String, primary_key=True)\n",
    "    task_id = Column(String, primary_key=True)\n",
    "    execution_date = Column(String, primary_key=True)\n",
    "    reschedule_date = Column(String, primary_key=True)\n",
    "\n",
    "class DagRun(Base):\n",
    "    __tablename__ = 'DagRun'\n",
    "\n",
    "    id = Column(String)\n",
    "    dag_id = Column(String, primary_key=True)\n",
    "    task_id = Column(String, primary_key=True)\n",
    "    execution_date = Column(String, primary_key=True)\n",
    "    reschedule_date = Column(String, primary_key=True)\n",
    "    state = Column(String)\n",
    "    run_id = Column(String)\n",
    "    external_trigger = Column(String)\n",
    "    conf = Column(String)\n",
    "    end_date = Column(String)\n",
    "    start_date = Column(String)\n",
    "    run_type = Column(String)\n",
    "    last_scheduling_decision = Column(String)\n",
    "    dag_hash = Column(String)\n",
    "    creating_job_id = Column(String)\n",
    "    \n",
    "Base.metadata.create_all(engine)"
   ]
  },
  {
   "cell_type": "code",
   "execution_count": 10,
   "metadata": {},
   "outputs": [],
   "source": [
    "from sqlalchemy.orm import sessionmaker\n",
    "Session = sessionmaker(bind=engine)\n",
    "session = Session()\n",
    "last_ts_to_clean = \"2021-03-31 00:00:20\""
   ]
  },
  {
   "cell_type": "code",
   "execution_count": 15,
   "metadata": {},
   "outputs": [
    {
     "name": "stdout",
     "output_type": "stream",
     "text": [
      "2021-04-14 11:54:13,152 INFO sqlalchemy.engine.base.Engine SELECT \"TaskInstance\".dag_id AS \"TaskInstance_dag_id\", \"TaskInstance\".task_id AS \"TaskInstance_task_id\", \"TaskInstance\".execution_date AS \"TaskInstance_execution_date\", \"TaskInstance\".instance AS \"TaskInstance_instance\", \"TaskInstance\".state AS \"TaskInstance_state\", max(\"TaskReschedule\".reschedule_date) AS max_1 \n",
      "FROM \"TaskInstance\" JOIN \"TaskReschedule\" ON \"TaskReschedule\".dag_id = \"TaskInstance\".dag_id AND \"TaskReschedule\".task_id = \"TaskInstance\".task_id AND \"TaskReschedule\".execution_date = \"TaskInstance\".execution_date \n",
      "WHERE \"TaskInstance\".state = ? GROUP BY \"TaskInstance\".dag_id, \"TaskInstance\".task_id, \"TaskInstance\".execution_date, \"TaskInstance\".instance, \"TaskInstance\".state \n",
      "HAVING max(\"TaskReschedule\".reschedule_date) < ?\n",
      "2021-04-14 11:54:13,153 INFO sqlalchemy.engine.base.Engine ('UP_FOR_RESCHEDULE', '2021-03-31 00:00:20')\n"
     ]
    }
   ],
   "source": [
    "query = session.query(\n",
    "    TaskInstance,\n",
    "    func.max(TaskReschedule.reschedule_date)\n",
    ").join(\n",
    "    TaskReschedule, and_(\n",
    "        TaskReschedule.dag_id == TaskInstance.dag_id,\n",
    "        TaskReschedule.task_id == TaskInstance.task_id,\n",
    "        TaskReschedule.execution_date == TaskInstance.execution_date\n",
    "    )\n",
    ").filter(\n",
    "    TaskInstance.state == \"UP_FOR_RESCHEDULE\",\n",
    ").group_by(\n",
    "  TaskInstance\n",
    ").having(\n",
    "    func.max(TaskReschedule.reschedule_date) < last_ts_to_clean\n",
    ").all()"
   ]
  },
  {
   "cell_type": "code",
   "execution_count": 12,
   "metadata": {},
   "outputs": [
    {
     "name": "stdout",
     "output_type": "stream",
     "text": [
      "SELECT \"TaskInstance\".dag_id AS \"TaskInstance_dag_id\", \"TaskInstance\".task_id AS \"TaskInstance_task_id\", \"TaskInstance\".execution_date AS \"TaskInstance_execution_date\", \"TaskInstance\".instance AS \"TaskInstance_instance\", \"TaskInstance\".state AS \"TaskInstance_state\", max(\"TaskReschedule\".reschedule_date) AS max_1 \n",
      "FROM \"TaskInstance\" JOIN \"TaskReschedule\" ON \"TaskReschedule\".dag_id = \"TaskInstance\".dag_id AND \"TaskReschedule\".task_id = \"TaskInstance\".task_id AND \"TaskReschedule\".execution_date = \"TaskInstance\".execution_date \n",
      "WHERE \"TaskInstance\".state = ? GROUP BY \"TaskInstance\".dag_id, \"TaskInstance\".task_id, \"TaskInstance\".execution_date, \"TaskInstance\".instance, \"TaskInstance\".state \n",
      "HAVING max(\"TaskReschedule\".reschedule_date) < ?\n"
     ]
    }
   ],
   "source": [
    "print(query)"
   ]
  },
  {
   "cell_type": "code",
   "execution_count": 13,
   "metadata": {},
   "outputs": [
    {
     "name": "stdout",
     "output_type": "stream",
     "text": [
      "2021-04-14 11:53:29,782 INFO sqlalchemy.engine.base.Engine BEGIN (implicit)\n",
      "2021-04-14 11:53:29,786 INFO sqlalchemy.engine.base.Engine SELECT \"TaskInstance\".dag_id AS \"TaskInstance_dag_id\", \"TaskInstance\".task_id AS \"TaskInstance_task_id\", \"TaskInstance\".execution_date AS \"TaskInstance_execution_date\", \"TaskInstance\".instance AS \"TaskInstance_instance\", \"TaskInstance\".state AS \"TaskInstance_state\", max(\"TaskReschedule\".reschedule_date) AS max_1 \n",
      "FROM \"TaskInstance\" JOIN \"TaskReschedule\" ON \"TaskReschedule\".dag_id = \"TaskInstance\".dag_id AND \"TaskReschedule\".task_id = \"TaskInstance\".task_id AND \"TaskReschedule\".execution_date = \"TaskInstance\".execution_date \n",
      "WHERE \"TaskInstance\".state = ? GROUP BY \"TaskInstance\".dag_id, \"TaskInstance\".task_id, \"TaskInstance\".execution_date, \"TaskInstance\".instance, \"TaskInstance\".state \n",
      "HAVING max(\"TaskReschedule\".reschedule_date) < ?\n",
      "2021-04-14 11:53:29,790 INFO sqlalchemy.engine.base.Engine ('UP_FOR_RESCHEDULE', '2021-03-31 00:00:20')\n"
     ]
    },
    {
     "data": {
      "text/plain": [
       "[]"
      ]
     },
     "execution_count": 13,
     "metadata": {},
     "output_type": "execute_result"
    }
   ],
   "source": [
    "query.all()"
   ]
  },
  {
   "cell_type": "code",
   "execution_count": 14,
   "metadata": {},
   "outputs": [
    {
     "name": "stdout",
     "output_type": "stream",
     "text": [
      "2021-04-14 11:53:37,417 INFO sqlalchemy.engine.base.Engine SELECT \"TaskInstance\".dag_id AS \"TaskInstance_dag_id\", \"TaskInstance\".task_id AS \"TaskInstance_task_id\", \"TaskInstance\".execution_date AS \"TaskInstance_execution_date\", \"TaskInstance\".instance AS \"TaskInstance_instance\", \"TaskInstance\".state AS \"TaskInstance_state\", max(\"TaskReschedule\".reschedule_date) AS max_1 \n",
      "FROM \"TaskInstance\" JOIN \"TaskReschedule\" ON \"TaskReschedule\".dag_id = \"TaskInstance\".dag_id AND \"TaskReschedule\".task_id = \"TaskInstance\".task_id AND \"TaskReschedule\".execution_date = \"TaskInstance\".execution_date \n",
      "WHERE \"TaskInstance\".state = ? GROUP BY \"TaskInstance\".dag_id, \"TaskInstance\".task_id, \"TaskInstance\".execution_date, \"TaskInstance\".instance, \"TaskInstance\".state\n",
      "2021-04-14 11:53:37,420 INFO sqlalchemy.engine.base.Engine ('UP_FOR_RESCHEDULE',)\n"
     ]
    },
    {
     "data": {
      "text/plain": [
       "[(<__main__.TaskInstance at 0x7fb58c2042b0>, '2021-03-31 00:00:30'),\n",
       " (<__main__.TaskInstance at 0x7fb58c204310>, '2021-03-31 00:00:30')]"
      ]
     },
     "execution_count": 14,
     "metadata": {},
     "output_type": "execute_result"
    }
   ],
   "source": [
    "session.query(\n",
    "    TaskInstance,\n",
    "    func.max(TaskReschedule.reschedule_date)\n",
    ").join(\n",
    "    TaskReschedule, and_(\n",
    "        TaskReschedule.dag_id == TaskInstance.dag_id,\n",
    "        TaskReschedule.task_id == TaskInstance.task_id,\n",
    "        TaskReschedule.execution_date == TaskInstance.execution_date\n",
    "    )\n",
    ").filter(\n",
    "    TaskInstance.state == \"UP_FOR_RESCHEDULE\",\n",
    ").group_by(\n",
    "  TaskInstance\n",
    ").all()"
   ]
  },
  {
   "cell_type": "code",
   "execution_count": 37,
   "metadata": {},
   "outputs": [
    {
     "name": "stdout",
     "output_type": "stream",
     "text": [
      "2021-04-14 13:43:32,298 INFO sqlalchemy.engine.base.Engine SELECT \"DagRun\".dag_id AS \"DagRun_dag_id\", max(\"DagRun\".end_date) AS end_date \n",
      "FROM \"DagRun\" \n",
      "WHERE \"DagRun\".state = ? GROUP BY \"DagRun\".dag_id\n",
      "2021-04-14 13:43:32,301 INFO sqlalchemy.engine.base.Engine ('success',)\n"
     ]
    },
    {
     "data": {
      "text/plain": [
       "[('smoke_test_env_vars', '2021-04-1409:56:47.747434'),\n",
       " ('smoke_test_env_vars2', '2021-04-1408:56:47.747434')]"
      ]
     },
     "execution_count": 37,
     "metadata": {},
     "output_type": "execute_result"
    }
   ],
   "source": [
    "session.query(\n",
    "        DagRun.dag_id,\n",
    "        func.max(DagRun.end_date).label(\"end_date\")\n",
    "    ).filter(\n",
    "        DagRun.state == \"success\"\n",
    "    ).group_by(\n",
    "        DagRun.dag_id\n",
    "    ).all()"
   ]
  },
  {
   "cell_type": "code",
   "execution_count": null,
   "metadata": {},
   "outputs": [],
   "source": []
  }
 ],
 "metadata": {
  "kernelspec": {
   "display_name": "Python 3",
   "language": "python",
   "name": "python3"
  },
  "language_info": {
   "codemirror_mode": {
    "name": "ipython",
    "version": 3
   },
   "file_extension": ".py",
   "mimetype": "text/x-python",
   "name": "python",
   "nbconvert_exporter": "python",
   "pygments_lexer": "ipython3",
   "version": "3.8.8"
  }
 },
 "nbformat": 4,
 "nbformat_minor": 4
}
